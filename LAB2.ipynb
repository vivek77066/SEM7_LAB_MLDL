{
 "cells": [
  {
   "cell_type": "code",
   "execution_count": 3,
   "id": "ff24c7ce-0378-4a16-80e8-814392943f0d",
   "metadata": {},
   "outputs": [],
   "source": [
    "import pandas as pd\n",
    "import numpy as np"
   ]
  },
  {
   "cell_type": "code",
   "execution_count": 5,
   "id": "191d4cf4-7c99-4180-a331-99ba190aab5c",
   "metadata": {},
   "outputs": [],
   "source": [
    "data = pd.read_csv(\"Salary_Data.csv\")"
   ]
  },
  {
   "cell_type": "code",
   "execution_count": 6,
   "id": "ea6e62ff-7d64-4c3b-b90c-558e367b69da",
   "metadata": {},
   "outputs": [
    {
     "data": {
      "text/plain": [
       "<bound method NDFrame.head of     YearsExperience  Salary\n",
       "0               1.1   39343\n",
       "1               1.3   46205\n",
       "2               1.5   37731\n",
       "3               2.0   43525\n",
       "4               2.2   39891\n",
       "5               2.9   56642\n",
       "6               3.0   60150\n",
       "7               3.2   54445\n",
       "8               3.2   64445\n",
       "9               3.7   57189\n",
       "10              3.9   63218\n",
       "11              4.0   55794\n",
       "12              4.0   56957\n",
       "13              4.1   57081\n",
       "14              4.5   61111\n",
       "15              4.9   67938\n",
       "16              5.1   66029\n",
       "17              5.3   83088\n",
       "18              5.9   81363\n",
       "19              6.0   93940\n",
       "20              6.8   91738\n",
       "21              7.1   98273\n",
       "22              7.9  101302\n",
       "23              8.2  113812\n",
       "24              8.7  109431\n",
       "25              9.0  105582\n",
       "26              9.5  116969\n",
       "27              9.6  112635\n",
       "28             10.3  122391\n",
       "29             10.5  121872>"
      ]
     },
     "execution_count": 6,
     "metadata": {},
     "output_type": "execute_result"
    }
   ],
   "source": [
    "data.head"
   ]
  },
  {
   "cell_type": "code",
   "execution_count": 7,
   "id": "0095fc3d-11d6-42d8-b628-308d66d3e53b",
   "metadata": {},
   "outputs": [],
   "source": [
    "X= data[\"YearsExperience\"]\n",
    "y= data[\"Salary\"]"
   ]
  },
  {
   "cell_type": "code",
   "execution_count": 8,
   "id": "329a213f-b247-4cae-8975-ee39e2e34931",
   "metadata": {},
   "outputs": [],
   "source": [
    "n= len(data)\n",
    "x_bar = sum(X)/n\n",
    "y_bar = sum(y)/n"
   ]
  },
  {
   "cell_type": "code",
   "execution_count": 9,
   "id": "04677d14-b2ba-45ff-8aa0-51f47137ffd7",
   "metadata": {},
   "outputs": [],
   "source": [
    "a=[]\n",
    "b=[]\n",
    "z=[]\n",
    "for i in X:\n",
    "    temp = i-x_bar\n",
    "    #print(temp)\n",
    "    a.append(round(temp,2))\n",
    "    \n",
    "for j in y:\n",
    "    temp = j-y_bar\n",
    "    #print(temp)\n",
    "    b.append(round(temp,2))\n",
    "    \n",
    "for i in range(20):\n",
    "    temp = a[i]*b[i]\n",
    "    z.append(round(temp,2))"
   ]
  },
  {
   "cell_type": "code",
   "execution_count": 10,
   "id": "6b5b827f-e6b0-4fc8-bf73-8cd48e53f538",
   "metadata": {},
   "outputs": [],
   "source": [
    "def square_list(list_1):\n",
    "    squared_list=[]\n",
    "    for i in range(len(list_1)):\n",
    "        squared_list.append(list_1[i]*list_1[i])\n",
    "    return squared_list\n",
    "\n",
    "def multiply_list(l1,l2):\n",
    "    result = []\n",
    "    for i in range(len(l1)):\n",
    "        result.append(l1[i]*l2[i])\n",
    "    return result"
   ]
  },
  {
   "cell_type": "code",
   "execution_count": 11,
   "id": "019821db-4757-4b5d-a31b-81e6093baeb4",
   "metadata": {},
   "outputs": [
    {
     "data": {
      "text/plain": [
       "25792.271860304143"
      ]
     },
     "execution_count": 11,
     "metadata": {},
     "output_type": "execute_result"
    }
   ],
   "source": [
    "a_square = square_list(a)\n",
    "b_square = square_list(b)\n",
    "amultiplyb =multiply_list(a,b)\n",
    "sum_amultiplyb = sum(amultiplyb)\n",
    "sum_a_square = sum(a_square)\n",
    "m_slope = sum_amultiplyb/sum_a_square\n",
    "c_coefficient = y_bar - (m_slope*x_bar)\n",
    "m_slope\n",
    "c_coefficient"
   ]
  },
  {
   "cell_type": "code",
   "execution_count": 12,
   "id": "3ca22937-850c-4388-94a5-6e1e2683cc44",
   "metadata": {},
   "outputs": [
    {
     "data": {
      "text/plain": [
       "[36187.22,\n",
       " 38077.21,\n",
       " 39967.2,\n",
       " 44692.17,\n",
       " 46582.16,\n",
       " 53197.12,\n",
       " 54142.12,\n",
       " 56032.11,\n",
       " 56032.11,\n",
       " 60757.08,\n",
       " 62647.07,\n",
       " 63592.07,\n",
       " 63592.07,\n",
       " 64537.06,\n",
       " 68317.04,\n",
       " 72097.02,\n",
       " 73987.01,\n",
       " 75877.0,\n",
       " 81546.97,\n",
       " 82491.96,\n",
       " 90051.92,\n",
       " 92886.91,\n",
       " 100446.87,\n",
       " 103281.85,\n",
       " 108006.83,\n",
       " 110841.81,\n",
       " 115566.79,\n",
       " 116511.78,\n",
       " 123126.74,\n",
       " 125016.73]"
      ]
     },
     "execution_count": 12,
     "metadata": {},
     "output_type": "execute_result"
    }
   ],
   "source": [
    "y_pred=[]\n",
    "for i in X:\n",
    "    y_pred.append(round(m_slope*i + c_coefficient,2))\n",
    "\n",
    "y_pred"
   ]
  },
  {
   "cell_type": "code",
   "execution_count": 13,
   "id": "4f0e40bf-d013-4ce8-b0a3-d6639cde27f1",
   "metadata": {},
   "outputs": [],
   "source": [
    "y_25 = m_slope*25+c_coefficient"
   ]
  },
  {
   "cell_type": "code",
   "execution_count": 14,
   "id": "34b28141-6bf5-4576-a903-1469ce23b101",
   "metadata": {},
   "outputs": [
    {
     "data": {
      "text/plain": [
       "262040.99271834616"
      ]
     },
     "execution_count": 14,
     "metadata": {},
     "output_type": "execute_result"
    }
   ],
   "source": [
    "y_25"
   ]
  },
  {
   "cell_type": "code",
   "execution_count": 15,
   "id": "cd4da2b2-765b-409c-ae1b-0987f8bb477d",
   "metadata": {},
   "outputs": [],
   "source": [
    "from sklearn import datasets, linear_model, metrics\n",
    "import pandas as pd\n",
    "import matplotlib.pyplot as plt"
   ]
  },
  {
   "cell_type": "code",
   "execution_count": 16,
   "id": "7764871f-f135-41fe-99a9-c4697c8f9a25",
   "metadata": {},
   "outputs": [
    {
     "data": {
      "text/plain": [
       "[<matplotlib.lines.Line2D at 0x2775d5dc6e0>]"
      ]
     },
     "execution_count": 16,
     "metadata": {},
     "output_type": "execute_result"
    },
    {
     "data": {
      "image/png": "[encoded data removed]",
      "text/plain": [
       "<Figure size 640x480 with 1 Axes>"
      ]
     },
     "metadata": {},
     "output_type": "display_data"
    }
   ],
   "source": [
    "plt.scatter(X,y)\n",
    "plt.plot(X,y_pred)"
   ]
  },
  {
   "cell_type": "code",
   "execution_count": 17,
   "id": "4f77a9c4-e8e2-4593-b99b-d40f5e3952db",
   "metadata": {},
   "outputs": [
    {
     "data": {
      "text/plain": [
       "[<matplotlib.lines.Line2D at 0x2775f76dca0>]"
      ]
     },
     "execution_count": 17,
     "metadata": {},
     "output_type": "execute_result"
    },
    {
     "data": {
      "image/png": "[encoded data removed]",
      "text/plain": [
       "<Figure size 640x480 with 1 Axes>"
      ]
     },
     "metadata": {},
     "output_type": "display_data"
    }
   ],
   "source": [
    "plt.plot(X,y)"
   ]
  },
  {
   "cell_type": "code",
   "execution_count": 18,
   "id": "e9372da4-31d2-4e48-96f9-9c899008c106",
   "metadata": {},
   "outputs": [],
   "source": [
    "\n",
    "X_n=np.array(X)\n",
    "y_n= np.array(y)"
   ]
  },
  {
   "cell_type": "code",
   "execution_count": 19,
   "id": "553695ee-c059-4cc5-96c6-4672b21a61cc",
   "metadata": {},
   "outputs": [],
   "source": [
    "X_r=X_n.reshape(-1,1)\n",
    "y_r= y_n.reshape(-1,1)"
   ]
  },
  {
   "cell_type": "code",
   "execution_count": null,
   "id": "4b599874-51f7-4851-a35e-228433aeb9e2",
   "metadata": {},
   "outputs": [],
   "source": [
    "reg = linear_model.LinearRegression()\n",
    "reg.fit(X_r,y_r)"
   ]
  }
 ],
 "metadata": {
  "kernelspec": {
   "display_name": "Python 3 (ipykernel)",
   "language": "python",
   "name": "python3"
  },
  "language_info": {
   "codemirror_mode": {
    "name": "ipython",
    "version": 3
   },
   "file_extension": ".py",
   "mimetype": "text/x-python",
   "name": "python",
   "nbconvert_exporter": "python",
   "pygments_lexer": "ipython3",
   "version": "3.12.5"
  }
 },
 "nbformat": 4,
 "nbformat_minor": 5
}
