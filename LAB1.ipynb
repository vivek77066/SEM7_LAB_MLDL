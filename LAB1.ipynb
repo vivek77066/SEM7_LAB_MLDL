{
 "cells": [
  {
   "cell_type": "code",
   "execution_count": 1,
   "id": "32bc2d3e-fc97-46ee-a8b3-b2f730c06a40",
   "metadata": {},
   "outputs": [
    {
     "name": "stdout",
     "output_type": "stream",
     "text": [
      "      Name  Age      City\n",
      "0    Alice   25  New York\n",
      "1      Bob   30     Paris\n",
      "2  Charlie   35    London\n"
     ]
    }
   ],
   "source": [
    "import pandas as pd\n",
    "df = pd.DataFrame({\n",
    "    'Name': ['Alice', 'Bob', 'Charlie'],\n",
    "    'Age': [25, 30, 35],\n",
    "    'City': ['New York', 'Paris', 'London']\n",
    "})\n",
    "print(df)\n"
   ]
  },
  {
   "cell_type": "code",
   "execution_count": 2,
   "id": "a383bd11-ceca-427e-bdbd-f27247ebc2c7",
   "metadata": {},
   "outputs": [
    {
     "name": "stdout",
     "output_type": "stream",
     "text": [
      "0    1\n",
      "1    7\n",
      "2    2\n",
      "dtype: int64\n"
     ]
    }
   ],
   "source": [
    "a = [1, 7, 2]\n",
    "\n",
    "myvar = pd.Series(a)\n",
    "\n",
    "print(myvar)"
   ]
  },
  {
   "cell_type": "code",
   "execution_count": 3,
   "id": "02d92c32-a5df-4995-b242-cabce18cc1b1",
   "metadata": {},
   "outputs": [
    {
     "name": "stdout",
     "output_type": "stream",
     "text": [
      "1\n"
     ]
    }
   ],
   "source": [
    "print(myvar[0])"
   ]
  },
  {
   "cell_type": "code",
   "execution_count": 4,
   "id": "ace6a6b7-53a7-48e4-a2f1-8d67e4cb4be8",
   "metadata": {},
   "outputs": [
    {
     "name": "stdout",
     "output_type": "stream",
     "text": [
      "    Name  Age      City\n",
      "0  Alice   25  New York\n",
      "1    Bob   30     Paris\n"
     ]
    }
   ],
   "source": [
    "print(df.loc[[0, 1]])"
   ]
  },
  {
   "cell_type": "code",
   "execution_count": 5,
   "id": "e910cc6e-6bcf-4539-bec9-022a7f643ff5",
   "metadata": {},
   "outputs": [
    {
     "name": "stdout",
     "output_type": "stream",
     "text": [
      "[1 2 3]\n"
     ]
    }
   ],
   "source": [
    "import numpy as np\n",
    "\n",
    "arr = np.array([1, 2, 3])\n",
    "print(arr)\n"
   ]
  },
  {
   "cell_type": "code",
   "execution_count": 6,
   "id": "a4ab6b4d-c35b-4fc1-82bf-2cc3ee97e62c",
   "metadata": {},
   "outputs": [
    {
     "name": "stdout",
     "output_type": "stream",
     "text": [
      "[[1 2]\n",
      " [3 4]]\n"
     ]
    }
   ],
   "source": [
    "arr2d = np.array([[1, 2], [3, 4]])\n",
    "print(arr2d)\n"
   ]
  },
  {
   "cell_type": "code",
   "execution_count": 7,
   "id": "29a88f3d-69a6-403d-a845-ee7a9060d15a",
   "metadata": {},
   "outputs": [
    {
     "name": "stdout",
     "output_type": "stream",
     "text": [
      "(3,)\n",
      "1\n",
      "int32\n"
     ]
    }
   ],
   "source": [
    "print(arr.shape)   # Shape of array\n",
    "print(arr.ndim)    # Number of dimensions\n",
    "print(arr.dtype)   # Data type\n"
   ]
  },
  {
   "cell_type": "code",
   "execution_count": 8,
   "id": "6cef1330-e3a5-4824-ae71-5f394dea2d63",
   "metadata": {},
   "outputs": [
    {
     "name": "stdout",
     "output_type": "stream",
     "text": [
      "20\n",
      "[20 30]\n"
     ]
    }
   ],
   "source": [
    "a = np.array([10, 20, 30, 40])\n",
    "print(a[1])        # 20\n",
    "print(a[1:3])      # [20 30]\n"
   ]
  },
  {
   "cell_type": "code",
   "execution_count": 9,
   "id": "0f16a073-3f14-4fa1-93c4-2dfce21b0a78",
   "metadata": {},
   "outputs": [
    {
     "name": "stdout",
     "output_type": "stream",
     "text": [
      "[5 7 9]\n",
      "[ 4 10 18]\n",
      "[1 4 9]\n",
      "[2.         2.23606798 2.44948974]\n"
     ]
    }
   ],
   "source": [
    "a = np.array([1, 2, 3])\n",
    "b = np.array([4, 5, 6])\n",
    "\n",
    "print(a + b)     # [5 7 9]\n",
    "print(a * b)     # [4 10 18]\n",
    "print(a ** 2)    # [1 4 9]\n",
    "print(np.sqrt(b))  # [2. 2.236 2.449]\n"
   ]
  },
  {
   "cell_type": "code",
   "execution_count": 11,
   "id": "b2066927-ac90-4c8c-875c-c966b8a39740",
   "metadata": {},
   "outputs": [
    {
     "name": "stdout",
     "output_type": "stream",
     "text": [
      "[1 2 3]\n",
      "[100   2   3]\n"
     ]
    }
   ],
   "source": [
    "a = np.array([1, 2, 3])\n",
    "b = a.copy()\n",
    "b[0] = 100\n",
    "print(a)   # [1 2 3]\n",
    "print(b)   # [100 2 3]\n"
   ]
  },
  {
   "cell_type": "code",
   "execution_count": null,
   "id": "299c14fd-bed3-4aa2-ab15-2a7d8d53a908",
   "metadata": {},
   "outputs": [],
   "source": []
  }
 ],
 "metadata": {
  "kernelspec": {
   "display_name": "Python 3 (ipykernel)",
   "language": "python",
   "name": "python3"
  },
  "language_info": {
   "codemirror_mode": {
    "name": "ipython",
    "version": 3
   },
   "file_extension": ".py",
   "mimetype": "text/x-python",
   "name": "python",
   "nbconvert_exporter": "python",
   "pygments_lexer": "ipython3",
   "version": "3.12.5"
  }
 },
 "nbformat": 4,
 "nbformat_minor": 5
}
